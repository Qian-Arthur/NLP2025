{
 "cells": [
  {
   "cell_type": "code",
   "execution_count": 23,
   "metadata": {},
   "outputs": [],
   "source": [
    "import os\n",
    "import jieba\n",
    "import string\n",
    "from gensim.models import Word2Vec\n",
    "\n",
    "# 配置路径\n",
    "corpus_dir = r\"C:\\Users\\WXQ\\Desktop\\2025春\\jyxstxtqj_downcc.com\"  # 替换为实际路径\n",
    "stopwords =  [\n",
    "    # 高频虚词\n",
    "    \"的\", \"了\", \"在\", \"是\", \"和\", \"就\", \"都\", \"要\", \"也\", \"这\",\n",
    "    \"有\", \"或\", \"及\", \"等\", \"与\", \"而\", \"但\", \"又\", \"并\", \"且\",\"\\u3000\",\n",
    "    \n",
    "    # 人称代词\n",
    "    \"我\", \"你\", \"他\", \"她\", \"它\", \"我们\", \"你们\", \"他们\", \"自己\",\n",
    "    \n",
    "    # 时间/数量词\n",
    "    \"年\", \"月\", \"日\", \"时\", \"分\", \"秒\", \"个\", \"些\", \"种\", \"许多\",\n",
    "    \n",
    "    # 介词/连词\n",
    "    \"对\", \"从\", \"向\", \"以\", \"为\", \"关于\", \"根据\", \"按照\", \"通过\",\n",
    "    \n",
    "    # 通用动词（无主题区分性）\n",
    "    \"进行\", \"开始\", \"需要\", \"可以\", \"可能\", \"应该\", \"必须\", \"能够\",\n",
    "    \n",
    "    # 标点符号（根据处理需求可选）\n",
    "     \"，\", \"。\", \"！\", \"？\", \"：\", \"；\", \"“\", \"”\", \"（\", \"）\",\n",
    "    \n",
    "    # 网络/论坛高频冗余词‌:ml-citation{ref=\"3,7\" data=\"citationList\"}\n",
    "    \"请\", \"看\", \"阅读\", \"点击\", \"回复\", \"发表\", \"分享\", \"谢谢\",\n",
    "    \"请问\", \"如何\", \"怎么\", \"为什么\", \"有没有\", \"有没有人\",\"那\",\"呢\",\"道\",\"到\",\"来\"\n",
    "    ,\"本书\", \"来自\", \"www\", \"cr173\", \"com\", \"免费\",\"txt\",\"小说\",\"下载站\",\"更新\",\"电子书\"\n",
    "    ,\"一个\",\"关注\",\"wwwcr173com\",\"\\ufffd\",\"\\n\"\n",
    "]  # 中文停用词表\n",
    "\n",
    "\n",
    "\n",
    "# 文本清洗与分词\n",
    "def process_text(text):\n",
    "    # 去除标点\n",
    "    text = text.translate(str.maketrans('', '', string.punctuation + '‘’“”…《》·'))\n",
    "    # 分词处理\n",
    "    words = jieba.lcut(text)\n",
    "    # 过滤停用词和单字\n",
    "    return [word for word in words if word not in stopwords and len(word)>1]\n",
    "\n",
    "# 构建语料库\n",
    "corpus = []\n",
    "for file in os.listdir(corpus_dir):\n",
    "    if file.endswith(\".txt\"):\n",
    "        with open(os.path.join(corpus_dir, file), 'r', encoding='gbk', errors=\"replace\") as f:\n",
    "            text = f.read()\n",
    "            corpus.append(process_text(text))\n",
    "\n",
    "# 保存预处理结果（可选）\n",
    "with open(\"processed_corpus.txt\", 'w', encoding='gbk') as f:\n",
    "    for doc in corpus:\n",
    "        f.write(' '.join(doc) + '\\n')"
   ]
  },
  {
   "cell_type": "code",
   "execution_count": 74,
   "metadata": {},
   "outputs": [],
   "source": [
    "model = Word2Vec(\n",
    "    sentences=corpus,\n",
    "    vector_size=300,     # 词向量维度\n",
    "    window=3,            # 上下文窗口\n",
    "    min_count=3,         # 最低词频\n",
    "    workers=4,           # 并行线程\n",
    "    sg=1,                # 使用skip-gram算法\n",
    "    hs=0,                # 使用负采样\n",
    "    negative=5,\n",
    "    epochs=20\n",
    ")\n",
    "\n",
    "# 保存/加载模型\n",
    "model.save(\"martial_arts_word2vec.model\")\n",
    "# model = Word2Vec.load(\"martial_arts_word2vec.model\")"
   ]
  },
  {
   "cell_type": "code",
   "execution_count": 83,
   "metadata": {},
   "outputs": [
    {
     "name": "stdout",
     "output_type": "stream",
     "text": [
      "与'达摩'最相似的词：\n",
      "这套: 0.975\n",
      "有名: 0.974\n",
      "大大: 0.973\n",
      "祖师: 0.972\n",
      "最强: 0.969\n",
      "\n",
      "'师父'与'徒弟'的语义相似度：0.698\n"
     ]
    }
   ],
   "source": [
    "# 相似词查询\n",
    "test_word=\"达摩\"\n",
    "similar_words = model.wv.most_similar(test_word, topn=5)\n",
    "print(\"与'{}'最相似的词：\".format(test_word))\n",
    "for word, score in similar_words:\n",
    "    print(f\"{word}: {score:.3f}\")\n",
    "\n",
    "# 词语相似度计算\n",
    "similarity = model.wv.similarity('师父', '徒弟')\n",
    "print(f\"\\n'师父'与'徒弟'的语义相似度：{similarity:.3f}\")"
   ]
  },
  {
   "cell_type": "code",
   "execution_count": 79,
   "metadata": {},
   "outputs": [
    {
     "data": {
      "image/png": "[encoded data removed]",
      "text/plain": [
       "<Figure size 1000x600 with 1 Axes>"
      ]
     },
     "metadata": {},
     "output_type": "display_data"
    }
   ],
   "source": [
    "from sklearn.cluster import KMeans\n",
    "from sklearn.decomposition import PCA\n",
    "import matplotlib.pyplot as plt\n",
    "\n",
    "# 选取武功类词语\n",
    "martial_terms = ['剑术', '掌法', '内力', '轻功', '身法', \n",
    "                '暗器', '偷袭', '招式', '心法', '秘籍']\n",
    "\n",
    "# 获取词向量\n",
    "term_vectors = [model.wv[term] for term in martial_terms]\n",
    "\n",
    "# K-means聚类\n",
    "kmeans = KMeans(n_clusters=3)\n",
    "clusters = kmeans.fit_predict(term_vectors)\n",
    "\n",
    "# 可视化（PCA降维）\n",
    "pca = PCA(n_components=2)\n",
    "vectors_2d = pca.fit_transform(term_vectors)\n",
    "plt.rcParams['font.sans-serif'] = ['SimHei']  # 黑体\n",
    "plt.rcParams['axes.unicode_minus'] = False   # 解决负号显示问题\n",
    "plt.figure(figsize=(10, 6))\n",
    "plt.scatter(vectors_2d[:,0], vectors_2d[:,1], c=clusters, cmap='rainbow')\n",
    "for i, term in enumerate(martial_terms):\n",
    "    plt.annotate(term, xy=(vectors_2d[i,0], vectors_2d[i,1]))\n",
    "plt.title(\"武功术语聚类分析\")\n",
    "plt.show()"
   ]
  },
  {
   "cell_type": "code",
   "execution_count": 47,
   "metadata": {},
   "outputs": [
    {
     "name": "stdout",
     "output_type": "stream",
     "text": [
      "\n",
      "段落相似度矩阵：\n",
      "武打段落1 vs 武打段落2: 0.93569803\n",
      "武打段落1 vs 日常段落3: 0.72989523\n"
     ]
    }
   ],
   "source": [
    "import numpy as np\n",
    "from sklearn.metrics.pairwise import cosine_similarity\n",
    "\n",
    "def get_paragraph_vector(paragraph):\n",
    "    vectors = [model.wv[word] for word in paragraph if word in model.wv]\n",
    "    return np.mean(vectors, axis=0) if vectors else np.zeros(model.vector_size)\n",
    "\n",
    "# 示例段落\n",
    "para1 = process_text(\"只见那黑衣人长剑一抖，使出一招天外飞仙，剑光如电般直取对方咽喉\")\n",
    "para2 = process_text(\"青衫客反手拔出腰间单刀，使出一式力劈华山，刀风呼啸气势惊人\")\n",
    "para3 = process_text(\"客栈里的小二端着茶盘，小心翼翼地给客人斟上热茶\")\n",
    "\n",
    "# 计算段落向量\n",
    "vec1 = get_paragraph_vector(para1).reshape(1, -1)\n",
    "vec2 = get_paragraph_vector(para2).reshape(1, -1)\n",
    "vec3 = get_paragraph_vector(para3).reshape(1, -1)\n",
    "vectors = np.vstack([vec1, vec2, vec3])\n",
    "\n",
    "# 相似度矩阵\n",
    "similarities = cosine_similarity(vectors)\n",
    "print(\"\\n段落相似度矩阵：\")\n",
    "print(\"武打段落1 vs 武打段落2:\", similarities[0,1])\n",
    "print(\"武打段落1 vs 日常段落3:\", similarities[0,2])"
   ]
  }
 ],
 "metadata": {
  "kernelspec": {
   "display_name": "Python 3",
   "language": "python",
   "name": "python3"
  },
  "language_info": {
   "codemirror_mode": {
    "name": "ipython",
    "version": 3
   },
   "file_extension": ".py",
   "mimetype": "text/x-python",
   "name": "python",
   "nbconvert_exporter": "python",
   "pygments_lexer": "ipython3",
   "version": "3.12.6"
  }
 },
 "nbformat": 4,
 "nbformat_minor": 2
}
